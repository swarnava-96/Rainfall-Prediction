{
 "cells": [
  {
   "cell_type": "markdown",
   "id": "coordinated-portuguese",
   "metadata": {},
   "source": [
    "# Random Forest Classifier"
   ]
  },
  {
   "cell_type": "markdown",
   "id": "occupied-hollow",
   "metadata": {},
   "source": [
    "## Importing the necessary libraries"
   ]
  },
  {
   "cell_type": "code",
   "execution_count": 18,
   "id": "directed-status",
   "metadata": {},
   "outputs": [],
   "source": [
    "import numpy as np\n",
    "import pandas as pd\n",
    "import matplotlib.pyplot as plt\n",
    "import seaborn as sns\n",
    "from sklearn import preprocessing\n",
    "import scipy.stats as stats\n",
    "from sklearn.model_selection import train_test_split\n",
    "from collections import Counter\n",
    "from imblearn.over_sampling import SMOTE\n",
    "from sklearn.metrics import accuracy_score,confusion_matrix,classification_report\n",
    "from sklearn import metrics\n",
    "from sklearn.ensemble import RandomForestClassifier\n",
    "from sklearn.model_selection import RandomizedSearchCV\n",
    "import joblib"
   ]
  },
  {
   "cell_type": "markdown",
   "id": "tested-right",
   "metadata": {},
   "source": [
    "## Loading the Processed Dataset"
   ]
  },
  {
   "cell_type": "code",
   "execution_count": 2,
   "id": "assured-defense",
   "metadata": {},
   "outputs": [],
   "source": [
    "data = pd.read_csv(\"preprocessed.csv\")"
   ]
  },
  {
   "cell_type": "code",
   "execution_count": 3,
   "id": "velvet-flexibility",
   "metadata": {},
   "outputs": [
    {
     "data": {
      "text/html": [
       "<div>\n",
       "<style scoped>\n",
       "    .dataframe tbody tr th:only-of-type {\n",
       "        vertical-align: middle;\n",
       "    }\n",
       "\n",
       "    .dataframe tbody tr th {\n",
       "        vertical-align: top;\n",
       "    }\n",
       "\n",
       "    .dataframe thead th {\n",
       "        text-align: right;\n",
       "    }\n",
       "</style>\n",
       "<table border=\"1\" class=\"dataframe\">\n",
       "  <thead>\n",
       "    <tr style=\"text-align: right;\">\n",
       "      <th></th>\n",
       "      <th>Date</th>\n",
       "      <th>Location</th>\n",
       "      <th>MinTemp</th>\n",
       "      <th>MaxTemp</th>\n",
       "      <th>Rainfall</th>\n",
       "      <th>Evaporation</th>\n",
       "      <th>Sunshine</th>\n",
       "      <th>WindGustDir</th>\n",
       "      <th>WindGustSpeed</th>\n",
       "      <th>WindDir9am</th>\n",
       "      <th>...</th>\n",
       "      <th>Pressure9am</th>\n",
       "      <th>Pressure3pm</th>\n",
       "      <th>Cloud9am</th>\n",
       "      <th>Cloud3pm</th>\n",
       "      <th>Temp9am</th>\n",
       "      <th>Temp3pm</th>\n",
       "      <th>RainToday</th>\n",
       "      <th>RainTomorrow</th>\n",
       "      <th>Date_month</th>\n",
       "      <th>Date_day</th>\n",
       "    </tr>\n",
       "  </thead>\n",
       "  <tbody>\n",
       "    <tr>\n",
       "      <th>0</th>\n",
       "      <td>2008-12-01</td>\n",
       "      <td>30</td>\n",
       "      <td>13.4</td>\n",
       "      <td>22.9</td>\n",
       "      <td>0.6</td>\n",
       "      <td>2.4</td>\n",
       "      <td>8.3</td>\n",
       "      <td>4.0</td>\n",
       "      <td>44.0</td>\n",
       "      <td>5.0</td>\n",
       "      <td>...</td>\n",
       "      <td>1007.7</td>\n",
       "      <td>1007.1</td>\n",
       "      <td>8.0</td>\n",
       "      <td>7.0</td>\n",
       "      <td>16.9</td>\n",
       "      <td>21.8</td>\n",
       "      <td>0</td>\n",
       "      <td>0</td>\n",
       "      <td>12</td>\n",
       "      <td>1</td>\n",
       "    </tr>\n",
       "    <tr>\n",
       "      <th>1</th>\n",
       "      <td>2008-12-02</td>\n",
       "      <td>30</td>\n",
       "      <td>7.4</td>\n",
       "      <td>25.1</td>\n",
       "      <td>0.0</td>\n",
       "      <td>3.6</td>\n",
       "      <td>10.0</td>\n",
       "      <td>2.0</td>\n",
       "      <td>44.0</td>\n",
       "      <td>0.0</td>\n",
       "      <td>...</td>\n",
       "      <td>1010.6</td>\n",
       "      <td>1007.8</td>\n",
       "      <td>7.0</td>\n",
       "      <td>7.0</td>\n",
       "      <td>17.2</td>\n",
       "      <td>24.3</td>\n",
       "      <td>0</td>\n",
       "      <td>0</td>\n",
       "      <td>12</td>\n",
       "      <td>2</td>\n",
       "    </tr>\n",
       "    <tr>\n",
       "      <th>2</th>\n",
       "      <td>2008-12-03</td>\n",
       "      <td>30</td>\n",
       "      <td>12.9</td>\n",
       "      <td>25.7</td>\n",
       "      <td>0.0</td>\n",
       "      <td>2.6</td>\n",
       "      <td>4.4</td>\n",
       "      <td>5.0</td>\n",
       "      <td>46.0</td>\n",
       "      <td>5.0</td>\n",
       "      <td>...</td>\n",
       "      <td>1007.6</td>\n",
       "      <td>1008.7</td>\n",
       "      <td>7.0</td>\n",
       "      <td>2.0</td>\n",
       "      <td>21.0</td>\n",
       "      <td>23.2</td>\n",
       "      <td>0</td>\n",
       "      <td>0</td>\n",
       "      <td>12</td>\n",
       "      <td>3</td>\n",
       "    </tr>\n",
       "    <tr>\n",
       "      <th>3</th>\n",
       "      <td>2008-12-04</td>\n",
       "      <td>30</td>\n",
       "      <td>9.2</td>\n",
       "      <td>28.0</td>\n",
       "      <td>0.0</td>\n",
       "      <td>14.6</td>\n",
       "      <td>8.9</td>\n",
       "      <td>11.0</td>\n",
       "      <td>24.0</td>\n",
       "      <td>13.0</td>\n",
       "      <td>...</td>\n",
       "      <td>1017.6</td>\n",
       "      <td>1012.8</td>\n",
       "      <td>7.0</td>\n",
       "      <td>7.0</td>\n",
       "      <td>18.1</td>\n",
       "      <td>26.5</td>\n",
       "      <td>0</td>\n",
       "      <td>0</td>\n",
       "      <td>12</td>\n",
       "      <td>4</td>\n",
       "    </tr>\n",
       "    <tr>\n",
       "      <th>4</th>\n",
       "      <td>2008-12-05</td>\n",
       "      <td>30</td>\n",
       "      <td>17.5</td>\n",
       "      <td>32.3</td>\n",
       "      <td>1.0</td>\n",
       "      <td>5.4</td>\n",
       "      <td>3.0</td>\n",
       "      <td>4.0</td>\n",
       "      <td>41.0</td>\n",
       "      <td>12.0</td>\n",
       "      <td>...</td>\n",
       "      <td>1010.8</td>\n",
       "      <td>1006.0</td>\n",
       "      <td>7.0</td>\n",
       "      <td>8.0</td>\n",
       "      <td>17.8</td>\n",
       "      <td>29.7</td>\n",
       "      <td>0</td>\n",
       "      <td>0</td>\n",
       "      <td>12</td>\n",
       "      <td>5</td>\n",
       "    </tr>\n",
       "  </tbody>\n",
       "</table>\n",
       "<p>5 rows × 25 columns</p>\n",
       "</div>"
      ],
      "text/plain": [
       "         Date  Location  MinTemp  MaxTemp  Rainfall  Evaporation  Sunshine  \\\n",
       "0  2008-12-01        30     13.4     22.9       0.6          2.4       8.3   \n",
       "1  2008-12-02        30      7.4     25.1       0.0          3.6      10.0   \n",
       "2  2008-12-03        30     12.9     25.7       0.0          2.6       4.4   \n",
       "3  2008-12-04        30      9.2     28.0       0.0         14.6       8.9   \n",
       "4  2008-12-05        30     17.5     32.3       1.0          5.4       3.0   \n",
       "\n",
       "   WindGustDir  WindGustSpeed  WindDir9am  ...  Pressure9am  Pressure3pm  \\\n",
       "0          4.0           44.0         5.0  ...       1007.7       1007.1   \n",
       "1          2.0           44.0         0.0  ...       1010.6       1007.8   \n",
       "2          5.0           46.0         5.0  ...       1007.6       1008.7   \n",
       "3         11.0           24.0        13.0  ...       1017.6       1012.8   \n",
       "4          4.0           41.0        12.0  ...       1010.8       1006.0   \n",
       "\n",
       "   Cloud9am  Cloud3pm  Temp9am  Temp3pm  RainToday  RainTomorrow  Date_month  \\\n",
       "0       8.0       7.0     16.9     21.8          0             0          12   \n",
       "1       7.0       7.0     17.2     24.3          0             0          12   \n",
       "2       7.0       2.0     21.0     23.2          0             0          12   \n",
       "3       7.0       7.0     18.1     26.5          0             0          12   \n",
       "4       7.0       8.0     17.8     29.7          0             0          12   \n",
       "\n",
       "   Date_day  \n",
       "0         1  \n",
       "1         2  \n",
       "2         3  \n",
       "3         4  \n",
       "4         5  \n",
       "\n",
       "[5 rows x 25 columns]"
      ]
     },
     "execution_count": 3,
     "metadata": {},
     "output_type": "execute_result"
    }
   ],
   "source": [
    "data.head()"
   ]
  },
  {
   "cell_type": "code",
   "execution_count": 4,
   "id": "exceptional-coverage",
   "metadata": {},
   "outputs": [
    {
     "data": {
      "text/plain": [
       "(145460, 25)"
      ]
     },
     "execution_count": 4,
     "metadata": {},
     "output_type": "execute_result"
    }
   ],
   "source": [
    "data.shape"
   ]
  },
  {
   "cell_type": "code",
   "execution_count": 5,
   "id": "blind-services",
   "metadata": {},
   "outputs": [],
   "source": [
    "df=data.sample(n=12000)"
   ]
  },
  {
   "cell_type": "code",
   "execution_count": 6,
   "id": "pleased-penny",
   "metadata": {},
   "outputs": [
    {
     "data": {
      "text/plain": [
       "(12000, 25)"
      ]
     },
     "execution_count": 6,
     "metadata": {},
     "output_type": "execute_result"
    }
   ],
   "source": [
    "df.shape"
   ]
  },
  {
   "cell_type": "markdown",
   "id": "protecting-concern",
   "metadata": {},
   "source": [
    "## Dividing the dataset into Independent and Dependent features"
   ]
  },
  {
   "cell_type": "code",
   "execution_count": 7,
   "id": "lesbian-absence",
   "metadata": {},
   "outputs": [],
   "source": [
    "X = df.drop([\"RainTomorrow\", \"Date\"], axis=1)\n",
    "y = df[\"RainTomorrow\"]"
   ]
  },
  {
   "cell_type": "markdown",
   "id": "equivalent-technician",
   "metadata": {},
   "source": [
    "### Train test split"
   ]
  },
  {
   "cell_type": "code",
   "execution_count": 8,
   "id": "inner-program",
   "metadata": {},
   "outputs": [],
   "source": [
    "X_train, X_test, y_train, y_test = train_test_split(X,y, test_size =0.2, stratify = y, random_state = 0)"
   ]
  },
  {
   "cell_type": "code",
   "execution_count": 9,
   "id": "average-tumor",
   "metadata": {},
   "outputs": [
    {
     "data": {
      "text/plain": [
       "53731     0\n",
       "100936    0\n",
       "63911     0\n",
       "12632     0\n",
       "117171    1\n",
       "         ..\n",
       "21958     1\n",
       "126913    0\n",
       "13640     0\n",
       "110460    0\n",
       "29537     0\n",
       "Name: RainTomorrow, Length: 9600, dtype: int64"
      ]
     },
     "execution_count": 9,
     "metadata": {},
     "output_type": "execute_result"
    }
   ],
   "source": [
    "y_train"
   ]
  },
  {
   "cell_type": "markdown",
   "id": "static-lender",
   "metadata": {},
   "source": [
    "## Handling imbalanced dataset"
   ]
  },
  {
   "cell_type": "code",
   "execution_count": 10,
   "id": "minus-passport",
   "metadata": {},
   "outputs": [
    {
     "name": "stderr",
     "output_type": "stream",
     "text": [
      "C:\\Users\\SWARNAVA\\anaconda3\\envs\\rain\\lib\\site-packages\\seaborn\\_decorators.py:43: FutureWarning: Pass the following variable as a keyword arg: x. From version 0.12, the only valid positional argument will be `data`, and passing other arguments without an explicit keyword will result in an error or misinterpretation.\n",
      "  FutureWarning\n"
     ]
    },
    {
     "data": {
      "text/plain": [
       "<AxesSubplot:xlabel='RainTomorrow', ylabel='count'>"
      ]
     },
     "execution_count": 10,
     "metadata": {},
     "output_type": "execute_result"
    },
    {
     "data": {
      "image/png": "[encoded data removed]",
      "text/plain": [
       "<Figure size 432x288 with 1 Axes>"
      ]
     },
     "metadata": {
      "needs_background": "light"
     },
     "output_type": "display_data"
    }
   ],
   "source": [
    "sns.countplot(df[\"RainTomorrow\"])"
   ]
  },
  {
   "cell_type": "code",
   "execution_count": 11,
   "id": "anonymous-shopping",
   "metadata": {},
   "outputs": [
    {
     "name": "stdout",
     "output_type": "stream",
     "text": [
      "The number of classes before fit Counter({0: 7587, 1: 2013})\n",
      "The number of classes after fit Counter({0: 7587, 1: 7587})\n"
     ]
    }
   ],
   "source": [
    "sm=SMOTE(random_state=0)\n",
    "X_train_res, y_train_res = sm.fit_resample(X_train, y_train)\n",
    "print(\"The number of classes before fit {}\".format(Counter(y_train)))\n",
    "print(\"The number of classes after fit {}\".format(Counter(y_train_res)))"
   ]
  },
  {
   "cell_type": "markdown",
   "id": "talented-serve",
   "metadata": {},
   "source": [
    "## Random Forest Classifier"
   ]
  },
  {
   "cell_type": "code",
   "execution_count": 12,
   "id": "incorporate-armor",
   "metadata": {},
   "outputs": [
    {
     "data": {
      "text/plain": [
       "RandomForestClassifier()"
      ]
     },
     "execution_count": 12,
     "metadata": {},
     "output_type": "execute_result"
    }
   ],
   "source": [
    "rf=RandomForestClassifier()\n",
    "rf.fit(X_train_res,y_train_res)"
   ]
  },
  {
   "cell_type": "code",
   "execution_count": 13,
   "id": "outside-motor",
   "metadata": {},
   "outputs": [
    {
     "name": "stdout",
     "output_type": "stream",
     "text": [
      "[[1706  191]\n",
      " [ 221  282]]\n",
      "0.8283333333333334\n",
      "              precision    recall  f1-score   support\n",
      "\n",
      "           0       0.89      0.90      0.89      1897\n",
      "           1       0.60      0.56      0.58       503\n",
      "\n",
      "    accuracy                           0.83      2400\n",
      "   macro avg       0.74      0.73      0.74      2400\n",
      "weighted avg       0.82      0.83      0.83      2400\n",
      "\n"
     ]
    }
   ],
   "source": [
    "y_pred1 = rf.predict(X_test)\n",
    "print(confusion_matrix(y_test,y_pred1))\n",
    "print(accuracy_score(y_test,y_pred1))\n",
    "print(classification_report(y_test,y_pred1))"
   ]
  },
  {
   "cell_type": "code",
   "execution_count": 14,
   "id": "grave-booking",
   "metadata": {},
   "outputs": [
    {
     "data": {
      "text/plain": [
       "0.7299754451676865"
      ]
     },
     "execution_count": 14,
     "metadata": {},
     "output_type": "execute_result"
    },
    {
     "data": {
      "image/png": "[encoded data removed]",
      "text/plain": [
       "<Figure size 432x288 with 1 Axes>"
      ]
     },
     "metadata": {
      "needs_background": "light"
     },
     "output_type": "display_data"
    }
   ],
   "source": [
    "metrics.plot_roc_curve(rf, X_test, y_test)\n",
    "metrics.roc_auc_score(y_test, y_pred1, average=None)"
   ]
  },
  {
   "cell_type": "markdown",
   "id": "liable-capitol",
   "metadata": {},
   "source": [
    "## Hyperparameter Optimization"
   ]
  },
  {
   "cell_type": "code",
   "execution_count": 15,
   "id": "revolutionary-scroll",
   "metadata": {},
   "outputs": [
    {
     "name": "stdout",
     "output_type": "stream",
     "text": [
      "{'n_estimators': [200, 400, 600, 800, 1000, 1200, 1400, 1600, 1800, 2000], 'max_features': ['auto', 'sqrt', 'log2'], 'max_depth': [10, 120, 230, 340, 450, 560, 670, 780, 890, 1000], 'min_samples_split': [2, 5, 10, 14], 'min_samples_leaf': [1, 2, 4, 6, 8], 'criterion': ['entropy', 'gini']}\n"
     ]
    }
   ],
   "source": [
    "# RandomizedSearchCV\n",
    "\n",
    "# Number of trees in random forest\n",
    "n_estimators=[int(x) for x in np.linspace(start=200,stop=2000,num=10)]\n",
    "\n",
    "# Number of features to consider at every split\n",
    "max_features=['auto','sqrt', 'log2']\n",
    "\n",
    "# Maximum number of levels in tree\n",
    "max_depth=[int(x) for x in np.linspace(10,1000,10)]\n",
    "\n",
    "# Minimum number of samples required to split a node\n",
    "min_samples_split=[2,5,10,14]\n",
    "\n",
    "# Minimum number of samples required at each leaf node\n",
    "min_samples_leaf=[1,2,4,6,8]\n",
    "\n",
    "# Create the random grid\n",
    "random_grid={'n_estimators':n_estimators,\n",
    "            'max_features':max_features,\n",
    "             'max_depth':max_depth,\n",
    "             'min_samples_split':min_samples_split,\n",
    "             'min_samples_leaf':min_samples_leaf,\n",
    "             'criterion':['entropy','gini']}\n",
    "print(random_grid)"
   ]
  },
  {
   "cell_type": "code",
   "execution_count": 23,
   "id": "japanese-gabriel",
   "metadata": {},
   "outputs": [
    {
     "name": "stdout",
     "output_type": "stream",
     "text": [
      "Fitting 3 folds for each of 25 candidates, totalling 75 fits\n"
     ]
    },
    {
     "data": {
      "text/plain": [
       "RandomizedSearchCV(cv=3, estimator=RandomForestClassifier(), n_iter=25,\n",
       "                   n_jobs=-1,\n",
       "                   param_distributions={'criterion': ['entropy', 'gini'],\n",
       "                                        'max_depth': [10, 120, 230, 340, 450,\n",
       "                                                      560, 670, 780, 890,\n",
       "                                                      1000],\n",
       "                                        'max_features': ['auto', 'sqrt',\n",
       "                                                         'log2'],\n",
       "                                        'min_samples_leaf': [1, 2, 4, 6, 8],\n",
       "                                        'min_samples_split': [2, 5, 10, 14],\n",
       "                                        'n_estimators': [200, 400, 600, 800,\n",
       "                                                         1000, 1200, 1400, 1600,\n",
       "                                                         1800, 2000]},\n",
       "                   random_state=100, verbose=2)"
      ]
     },
     "execution_count": 23,
     "metadata": {},
     "output_type": "execute_result"
    }
   ],
   "source": [
    "rf=RandomForestClassifier()\n",
    "rf_randomCV=RandomizedSearchCV(estimator=rf,param_distributions=random_grid,n_iter=25,cv=3,verbose=2,random_state=100,n_jobs=-1)\n",
    "\n",
    "### fit the randomized model\n",
    "rf_randomCV.fit(X_train_res,y_train_res)"
   ]
  },
  {
   "cell_type": "code",
   "execution_count": 24,
   "id": "activated-january",
   "metadata": {},
   "outputs": [
    {
     "data": {
      "text/plain": [
       "{'n_estimators': 600,\n",
       " 'min_samples_split': 2,\n",
       " 'min_samples_leaf': 1,\n",
       " 'max_features': 'sqrt',\n",
       " 'max_depth': 120,\n",
       " 'criterion': 'entropy'}"
      ]
     },
     "execution_count": 24,
     "metadata": {},
     "output_type": "execute_result"
    }
   ],
   "source": [
    "rf_randomCV.best_params_"
   ]
  },
  {
   "cell_type": "code",
   "execution_count": 25,
   "id": "buried-marine",
   "metadata": {},
   "outputs": [],
   "source": [
    "best_random_grid=rf_randomCV.best_estimator_"
   ]
  },
  {
   "cell_type": "code",
   "execution_count": 26,
   "id": "published-country",
   "metadata": {},
   "outputs": [
    {
     "name": "stdout",
     "output_type": "stream",
     "text": [
      "[[1690  207]\n",
      " [ 213  290]]\n",
      "Accuracy score 0.825\n",
      "Classification report               precision    recall  f1-score   support\n",
      "\n",
      "           0       0.89      0.89      0.89      1897\n",
      "           1       0.58      0.58      0.58       503\n",
      "\n",
      "    accuracy                           0.82      2400\n",
      "   macro avg       0.74      0.73      0.73      2400\n",
      "weighted avg       0.82      0.82      0.82      2400\n",
      "\n"
     ]
    }
   ],
   "source": [
    "from sklearn.metrics import accuracy_score\n",
    "y_pred = best_random_grid.predict(X_test)\n",
    "print(confusion_matrix(y_test,y_pred))\n",
    "print('Accuracy score {}'.format(accuracy_score(y_test,y_pred)))\n",
    "print('Classification report {}'.format(classification_report(y_test,y_pred)))"
   ]
  },
  {
   "cell_type": "markdown",
   "id": "happy-insertion",
   "metadata": {},
   "source": [
    "## Saving the model to reuse it again"
   ]
  },
  {
   "cell_type": "code",
   "execution_count": 27,
   "id": "final-corrections",
   "metadata": {},
   "outputs": [
    {
     "data": {
      "text/plain": [
       "['rf.pkl']"
      ]
     },
     "execution_count": 27,
     "metadata": {},
     "output_type": "execute_result"
    }
   ],
   "source": [
    "joblib.dump(rf_randomCV, \"rf.pkl\")"
   ]
  }
 ],
 "metadata": {
  "kernelspec": {
   "display_name": "Python 3",
   "language": "python",
   "name": "python3"
  },
  "language_info": {
   "codemirror_mode": {
    "name": "ipython",
    "version": 3
   },
   "file_extension": ".py",
   "mimetype": "text/x-python",
   "name": "python",
   "nbconvert_exporter": "python",
   "pygments_lexer": "ipython3",
   "version": "3.7.10"
  }
 },
 "nbformat": 4,
 "nbformat_minor": 5
}
